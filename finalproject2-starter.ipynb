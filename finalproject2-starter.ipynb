{
 "cells": [
  {
   "cell_type": "markdown",
   "metadata": {},
   "source": [
    "# Final Project: Build Leadership Pipeline\n",
    "\n",
    "Part 2: Project Design Writeup"
   ]
  },
  {
   "cell_type": "markdown",
   "metadata": {},
   "source": [
    "## Problem Statement"
   ]
  },
  {
   "cell_type": "markdown",
   "metadata": {},
   "source": [
    "To spot leaders early in their careers by predicting if a people manager will be a good leader\n"
   ]
  },
  {
   "cell_type": "markdown",
   "metadata": {},
   "source": [
    "#### Hypothesis"
   ]
  },
  {
   "cell_type": "markdown",
   "metadata": {},
   "source": [
    "There are factors that indicate whether or not a people manager will be successful in managing a team"
   ]
  },
  {
   "cell_type": "markdown",
   "metadata": {},
   "source": [
    "#### Specific Aim"
   ]
  },
  {
   "cell_type": "markdown",
   "metadata": {},
   "source": [
    "To classify people managers into \"good\" and \"bad\" categories.\n",
    "\n",
    "Intuition: Promo Frequency and Talent Mapping category will have the most impact in predicting the leadership quality of people managers "
   ]
  },
  {
   "cell_type": "markdown",
   "metadata": {},
   "source": [
    "## Research Design Outline"
   ]
  },
  {
   "cell_type": "markdown",
   "metadata": {},
   "source": [
    "#### Classification Problem with binary outcome\n",
    "\n",
    "The research plan is to explore couple different models:\n",
    "    1. Logistic Regression\n",
    "    2. Random Forests\n",
    "\n",
    "Logistic Regression is the preferred model because of it's interpretability. However, random decision forests can help build a sustainable model particularly when newer features need to be factored in."
   ]
  },
  {
   "cell_type": "markdown",
   "metadata": {},
   "source": [
    "#### Data Wrangling or Pre-processing:\n",
    "    1. Normalization: Variables need to be standardized to bring to the same scale\n",
    "    2. Imputation: Missing values need to be filled in with mean, median, etc depending on the variable\n",
    "    3. Feature Engineering: New features (and dummies for categorical) need to be created wherever necessary\n",
    "    4. Regularization: L1 and L2 methods need to be explored to identify important features"
   ]
  },
  {
   "cell_type": "markdown",
   "metadata": {},
   "source": [
    "## Data"
   ]
  },
  {
   "cell_type": "markdown",
   "metadata": {},
   "source": [
    "#### Source: HR Analytics Warehouse\n",
    "\n",
    "1. Demographics (Age, Tenure, Pay Grade)\n",
    "2. Diversity (Gender, Ethnicity)\n",
    "3. Span of Control (# of direct reports, org size)\n",
    "4. Promotions (Last promo date, # of promos and movements)\n",
    "5. Performance (prior year ratings)\n",
    "6. Compensation (salary and compa-ratios)\n",
    "7. Upward Feedback scores\n",
    "8. Talent Mapping / Succession Profiles\n",
    "9. Outcome: Management & Leadership Rating"
   ]
  },
  {
   "cell_type": "markdown",
   "metadata": {},
   "source": [
    "#### Data dictionary: \n",
    "\n",
    "Variable | Description | Type of Variable\n",
    "---| ---| ---\n",
    "Worker ID | integer values | continuous\n",
    "Age Band | 20-30,30-40,..,60+ | categorical\n",
    "Gender | 0=Female, 1=Male | categorical\n",
    "Ethnicity | Asian, White, etc | categorical\n",
    "Management Level | Manager, Director, VP, etc | categorical\n",
    "Tenure Band | 0-3,3-5,5-9,9-15,15+ | categorical\n",
    "Total Promotions | (0,10) | continuous\n",
    "Promo Frequency | (0,30) | continuous\n",
    "Time since last promo | (0,30) | continuous\n",
    "Pay Sector | A-,A,B,C,C+ | categorical\n",
    "Compa-Ratio to Market | (0,200) | continuous\n",
    "Direct Reports | integers (0,20) | continuous\n",
    "Org Size | integers (0,10000) | continuous\n",
    "Function | G&A,R&D,S&M | categorical\n",
    "Region | NA,EMEA,APAC | categorical\n",
    "Mid-Year Status | 0=off-track, 1=on-track | categorical\n",
    "Prior Year Perf | 1=Exceptional,...,5=Below Expecations | categorical\n",
    "Succesion Profiles | (0,100) | continuous\n",
    "Readiness Flag | 0=No, 1=Yes | categorical\n",
    "Talent Mapping | 9-box ratings A1-C3 | categorical\n",
    "Upward Feedback Score | (0,5) | continuous\n",
    "Calendar Year | 2015 to 2017 | continuous\n",
    "M&L Rating | 0=Bad, 1=Good | categorical"
   ]
  },
  {
   "cell_type": "markdown",
   "metadata": {},
   "source": [
    "## Risks & Assumptions"
   ]
  },
  {
   "cell_type": "markdown",
   "metadata": {},
   "source": [
    "Risks:\n",
    "1. New people managers will have built no history in the company so we will miss out on categorizing a decent bunch\n",
    "2. Ratings are awarded annually so factors impacting the outcome could vary by year reducing the power of predictability\n",
    "\n",
    "Assumptions:\n",
    "1. Since M&L Ratings are awarded through a calibration process, top-level management view is factored into the final decision\n",
    "2. For tenured managers, it would be interesting to search for other signals i.e. see how their M&L ratings change over time (as factors fluctuate) but for keeping the model simple, time dimension aspect will not be explored in this project"
   ]
  },
  {
   "cell_type": "markdown",
   "metadata": {},
   "source": [
    "## Domain Knowledge"
   ]
  },
  {
   "cell_type": "markdown",
   "metadata": {},
   "source": [
    "As an immediate step, it would be interesting to test the model against upcoming 2017 M&L ratings.\n",
    "\n",
    "If the model accuracy is high enough, then the next step would be to create similar model for individual contributors who could potentially be given opportunities to manage teams based on merit and their close resemblance to \"good\" leaders in the career trajectory, thereby building the leadership pipeline."
   ]
  },
  {
   "cell_type": "markdown",
   "metadata": {},
   "source": [
    "## Success Criteria"
   ]
  },
  {
   "cell_type": "markdown",
   "metadata": {},
   "source": [
    "The primary intent of this project is to identify and observe \"good\" leadership skills so it is important to predict \"good\" managers with high precision. Thus, minimizing false positives becomes critical in this model.\n",
    "\n",
    "Even though precision scoring better minimizes false positivies, this classifier model will be built to optimize for maximum AUC, and then alternate scoring methods will be explored."
   ]
  }
 ],
 "metadata": {
  "kernelspec": {
   "display_name": "Python 2",
   "language": "python",
   "name": "python2"
  },
  "language_info": {
   "codemirror_mode": {
    "name": "ipython",
    "version": 2
   },
   "file_extension": ".py",
   "mimetype": "text/x-python",
   "name": "python",
   "nbconvert_exporter": "python",
   "pygments_lexer": "ipython2",
   "version": "2.7.13"
  }
 },
 "nbformat": 4,
 "nbformat_minor": 1
}
